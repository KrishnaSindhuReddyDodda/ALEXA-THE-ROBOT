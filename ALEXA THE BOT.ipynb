{
 "cells": [
  {
   "cell_type": "code",
   "execution_count": 1,
   "id": "8170901a",
   "metadata": {},
   "outputs": [],
   "source": [
    "from datetime import datetime\n",
    "import time\n",
    "import random"
   ]
  },
  {
   "cell_type": "code",
   "execution_count": 2,
   "id": "9de23332",
   "metadata": {},
   "outputs": [
    {
     "name": "stdout",
     "output_type": "stream",
     "text": [
      "BOT: How can I call you?\n",
      "Krishna\n"
     ]
    }
   ],
   "source": [
    "print(\"BOT: How can I call you?\")\n",
    "user_name = input()"
   ]
  },
  {
   "cell_type": "code",
   "execution_count": 3,
   "id": "98ff8ace",
   "metadata": {},
   "outputs": [],
   "source": [
    "def day_or_night():\n",
    "    mytime = time.localtime()\n",
    "    if mytime.tm_hour < 6 or mytime.tm_hour > 18:\n",
    "        return(\"It's night\")\n",
    "    else:\n",
    "        return(\"It's day\")"
   ]
  },
  {
   "cell_type": "code",
   "execution_count": 4,
   "id": "02948016",
   "metadata": {
    "scrolled": true
   },
   "outputs": [],
   "source": [
    "name = \"Alexa\" \n",
    "mood = \"Happy\"\n",
    "weather = \"Sunny\"\n",
    "Timestamp =datetime.now()\n",
    "DayOrNight=day_or_night()\n",
    "\n",
    "\n",
    "\n"
   ]
  },
  {
   "cell_type": "code",
   "execution_count": 5,
   "id": "df35d2a0",
   "metadata": {},
   "outputs": [],
   "source": [
    "bot_template = \"BOT : {0}\"\n",
    "user_template = user_name + \" : {0}\""
   ]
  },
  {
   "cell_type": "code",
   "execution_count": 6,
   "id": "e597586f",
   "metadata": {},
   "outputs": [],
   "source": [
    "def respond(message):\n",
    "    if message in responses: \n",
    "        bot_message = random.choice(responses[message])\n",
    "    else: \n",
    "        bot_message = random.choice(responses[\"default\"])\n",
    "    return bot_message"
   ]
  },
  {
   "cell_type": "code",
   "execution_count": 7,
   "id": "07f77b12",
   "metadata": {},
   "outputs": [],
   "source": [
    "responses = { \n",
    "\n",
    "\"what's your name?\": [ \n",
    "\"They call me {0}\".format(name), \n",
    "\"I usually go by {0}\".format(name), \n",
    "\"My name is the {0}\".format(name), ] ,\n",
    "\n",
    "\"Is it day/night?\": [\n",
    "\"What do you think? Yes {0}\".format(DayOrNight), ],\n",
    "    \n",
    "\"Who’s your boss?\": [\n",
    "\"Technically, I report to you when you call me\",\n",
    "\"You are my boss so, I report to you\",] ,\n",
    "    \n",
    "\"what's today's timestamp?\":  [\n",
    "\"The timestamp is {0}\".format(Timestamp),\n",
    "\"It's {0} today.format(Timestamp)\"\n",
    "\"Let me check, it looks {0} today\".format(Timestamp),],\n",
    "\n",
    "\"what's today's weather?\": [ \n",
    "\"The weather is {0}\".format(weather), \n",
    "\"It's {0} today\".format(weather), \n",
    "\"Let me check, it looks {0} today\".format(weather), ],\n",
    "\n",
    "    \n",
    "\"how are you?\": [ \n",
    "\"I am feeling {0}\".format(mood), \n",
    "\"{0}! How about you?\".format(mood), \n",
    "\"I am {0}! How about yourself?\".format(mood) ,],\n",
    "    \n",
    "\"Do you love me?\" : [\n",
    "\"I respect you\",],\n",
    "    \n",
    "\"You’re beautiful?\" :[\n",
    "\"ok\",\n",
    "\"OK.Is there something I can help you with?\"\n",
    "],\n",
    "    \n",
    "\"Do you know a joke?\" : [\n",
    "\"I don't have an answer for that, is there something else do I help you?\",\n",
    "\"Why haven't aliens visited the earth? They read our reviews...only one star\",\n",
    "],\n",
    "    \n",
    "\"Do you get smarter?\" : [\n",
    "\"Hmm....I don't have an answer for that. Is there something else I can help with?\",\n",
    "\"I don't have an answer for that,Is there anything else I could help for?\",],\n",
    "\n",
    "    \n",
    "\"are you a robot?\": [ \n",
    "\"What do you think?\", \n",
    "\"Maybe yes, maybe no!\", \n",
    "\"Yes, I am a robot with human feelings.\" ,\n",
    "\"Yes I am a robot, but I’m a good one. Let me prove it. How can I help you?\",],\n",
    "    \n",
    "\"\": [ \n",
    "\"Hey! Are you there?\", \n",
    "\"What do you mean by saying nothing?\", \n",
    "\"Sometimes saying nothing tells a lot :)\", ],\n",
    "\n",
    "\"default\": [\n",
    "\"Sorry I can't hear you\"] \n",
    "}"
   ]
  },
  {
   "cell_type": "code",
   "execution_count": 8,
   "id": "5b88eb2e",
   "metadata": {},
   "outputs": [],
   "source": [
    "def related(x_text):\n",
    "    if \"name\" in x_text:\n",
    "        y_text = \"what's your name?\"\n",
    "    elif \"weather\" in x_text:\n",
    "        y_text = \"what's today's weather?\"\n",
    "    elif \"bot\" in x_text:\n",
    "        y_text = \"are you a robot?\"\n",
    "    elif \"how are\" in x_text:\n",
    "        y_text = \"how are you?\"\n",
    "    elif \"timestamp\" in x_text:\n",
    "        y_text = \"what's today's timestamp?\"\n",
    "    elif \"smarter\" in x_text:\n",
    "        y_text = \"Do you get smarter?\"\n",
    "    elif \"day/night\" in x_text:\n",
    "        y_text = \"Is it day/night?\"\n",
    "    elif \"boss/master\" in x_text:\n",
    "        y_text = \"Who’s your boss / master?\"\n",
    "    elif \"love me\" in x_text:\n",
    "        y_text = \"Do you love me?\"\n",
    "    elif \"beautiful\" in x_text:\n",
    "        y_text = \"You’re beautiful?\"\n",
    "    elif \"joke\" in x_text:\n",
    "        y_text = \"Do you know a joke?\"\n",
    "    else:\n",
    "        y_text = \"\"\n",
    "    return(y_text)\n",
    "    "
   ]
  },
  {
   "cell_type": "code",
   "execution_count": 9,
   "id": "4f0901ab",
   "metadata": {},
   "outputs": [],
   "source": [
    "def send_message(message):\n",
    "    print(user_template.format(message)) \n",
    "    response = respond(message) \n",
    "    print(bot_template.format(response))\n",
    "    "
   ]
  },
  {
   "cell_type": "code",
   "execution_count": null,
   "id": "a105838e",
   "metadata": {},
   "outputs": [
    {
     "name": "stdout",
     "output_type": "stream",
     "text": [
      "is it day/night?\n",
      "Krishna : Is it day/night?\n",
      "BOT : What do you think? Yes It's day\n",
      "what's your name?\n",
      "Krishna : what's your name?\n",
      "BOT : They call me Alexa\n",
      "how are you?\n",
      "Krishna : how are you?\n",
      "BOT : I am feeling Happy\n",
      "do you know joke?\n",
      "Krishna : Do you know a joke?\n",
      "BOT : Why haven't aliens visited the earth? They read our reviews...only one star\n",
      "are you crazy?\n",
      "Krishna : \n",
      "BOT : What do you mean by saying nothing?\n",
      "u are beautiful?\n",
      "Krishna : You’re beautiful?\n",
      "BOT : OK.Is there something I can help you with?\n",
      "timestamp?\n",
      "Krishna : what's today's timestamp?\n",
      "BOT : The timestamp is 2021-07-31 15:25:20.277031\n"
     ]
    }
   ],
   "source": [
    "while 1: \n",
    "  my_input = input() \n",
    "  my_input = my_input.lower() \n",
    "  related_text = related(my_input) \n",
    "  send_message(related_text)\n",
    "if my_input == \"exit\" or my_input == \"stop\": \n",
    "    break"
   ]
  },
  {
   "cell_type": "code",
   "execution_count": null,
   "id": "45371e7f",
   "metadata": {},
   "outputs": [],
   "source": []
  },
  {
   "cell_type": "code",
   "execution_count": null,
   "id": "6081959a",
   "metadata": {},
   "outputs": [],
   "source": []
  }
 ],
 "metadata": {
  "kernelspec": {
   "display_name": "Python 3 (ipykernel)",
   "language": "python",
   "name": "python3"
  },
  "language_info": {
   "codemirror_mode": {
    "name": "ipython",
    "version": 3
   },
   "file_extension": ".py",
   "mimetype": "text/x-python",
   "name": "python",
   "nbconvert_exporter": "python",
   "pygments_lexer": "ipython3",
   "version": "3.9.6"
  }
 },
 "nbformat": 4,
 "nbformat_minor": 5
}
